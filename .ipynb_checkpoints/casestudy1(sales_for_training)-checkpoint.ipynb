{
 "cells": [
  {
   "cell_type": "markdown",
   "id": "4fa0a69d-17bb-4fcf-a8d5-487112ea127e",
   "metadata": {},
   "source": [
    "#### Case 1 :\n",
    "1. Buatlah DataFrame 1 kolom dengan 25 baris bernama ‘TransactionAmount’\n",
    "2. Buatlah analisis measure of central tendency dari data ‘TransactionAmount\n",
    "3. Lakukan juga analisis measure of variability dari data ‘TransactionAmoun\n",
    "4. Tentukan H0 & H1 untuk persiapan dilakukan T-Test\n",
    "5. Lakukan proses T-Test pada data rata-rata jumlah transaksi (dengan alpha 5%)\n",
    "6. Buatlah kesimpulan dari hasil pengujian sales force training\n",
    "7. Membuat Power point sebagai dokumen pengumpulan tugas dari proyek yang telah dikerjakan, serta mengupload code dan power point projeknya pada github repository\n",
    "*Notes: langkah-langkah membuat power point, bisa dilihat pada panduan pengumpulan project"
   ]
  },
  {
   "cell_type": "code",
   "execution_count": 5,
   "id": "bb189c05-a675-4ef9-aa3b-4310c4c81532",
   "metadata": {},
   "outputs": [],
   "source": [
    "import pandas as pd\n",
    "import numpy as np\n",
    "import statistics\n",
    "import scipy.stats as stats"
   ]
  },
  {
   "cell_type": "code",
   "execution_count": 6,
   "id": "ece00052-a437-4e7f-90da-f5d7c8d5becb",
   "metadata": {},
   "outputs": [
    {
     "data": {
      "text/plain": [
       "array([100, 150,  50, 100, 130, 120, 100,  85,  70, 150, 150, 120,  50,\n",
       "       100, 100, 140,  90, 150,  50,  90, 120, 100, 110,  75,  65])"
      ]
     },
     "execution_count": 6,
     "metadata": {},
     "output_type": "execute_result"
    }
   ],
   "source": [
    "# 1. Creating a Data Frame\n",
    "TransactionAmount = np.array ([100, 150, 50, 100, 130, 120, 100, 85, 70, 150, \n",
    "                                   150, 120, 50, 100, 100, 140, 90, 150, 50, 90,\n",
    "                                   120, 100, 110, 75, 65])\n",
    "\n",
    "TransactionAmount"
   ]
  },
  {
   "cell_type": "code",
   "execution_count": 7,
   "id": "56490a7c-7c33-46a4-9b3e-7d9899b619d5",
   "metadata": {},
   "outputs": [
    {
     "name": "stdout",
     "output_type": "stream",
     "text": [
      "102\n",
      "100\n",
      "100\n"
     ]
    }
   ],
   "source": [
    "# 2. Analisis Measure of Tendency\n",
    "print(statistics.mean(TransactionAmount))\n",
    "print(statistics.median(TransactionAmount))\n",
    "print(statistics.mode(TransactionAmount))"
   ]
  },
  {
   "cell_type": "code",
   "execution_count": 8,
   "id": "81491de3-85f8-4bdd-8b42-a2aaa01ecaf6",
   "metadata": {},
   "outputs": [
    {
     "name": "stdout",
     "output_type": "stream",
     "text": [
      "972.2399999999999\n",
      "31.18076330047101\n",
      "100\n",
      "85.0\n",
      "100.0\n",
      "120.0\n"
     ]
    }
   ],
   "source": [
    "# 3. Analisis Measure of Variability\n",
    "\n",
    "print(np.var(TransactionAmount))\n",
    "print(np.std(TransactionAmount))\n",
    "print(np.max(TransactionAmount) - np.min(TransactionAmount))\n",
    "print(np.quantile(TransactionAmount, 0.25))\n",
    "print(np.quantile(TransactionAmount, 0.5))\n",
    "print(np.quantile(TransactionAmount, 0.75))"
   ]
  },
  {
   "cell_type": "code",
   "execution_count": 9,
   "id": "1258d661-6acb-4bae-a6b5-9e40e6b04ad1",
   "metadata": {},
   "outputs": [],
   "source": [
    "# 4. Define H0 dan H1\n",
    "\n",
    "# H0 : Rata-rata jumlah transaksi 25 hari = 100\n",
    "# H1 : Rata-rata jumlah transaksi 25 hari > 100"
   ]
  },
  {
   "cell_type": "code",
   "execution_count": 12,
   "id": "823c09bf-26c7-48ff-8d0e-ddc605a10b71",
   "metadata": {},
   "outputs": [
    {
     "data": {
      "text/plain": [
       "TtestResult(statistic=0.4085001556802841, pvalue=0.6865284813438117, df=24)"
      ]
     },
     "execution_count": 12,
     "metadata": {},
     "output_type": "execute_result"
    }
   ],
   "source": [
    "# 5. Define T-Test, alpha = 0.05\n",
    "\n",
    "# Hitung statistik t dan nilai p\n",
    "# melakukan uji satu sampel t\n",
    "\n",
    "stats.ttest_1samp (a = TransactionAmount, popmean = 100)"
   ]
  },
  {
   "cell_type": "markdown",
   "id": "a5206898-4b35-424c-b4d2-63add2d0825a",
   "metadata": {
    "tags": []
   },
   "source": [
    "statistic = 0.4085001556802841 and pvalue = 0.6865284813438117"
   ]
  },
  {
   "cell_type": "code",
   "execution_count": 14,
   "id": "9ae64dca-251f-4734-a78f-d5162dad270b",
   "metadata": {
    "tags": []
   },
   "outputs": [],
   "source": [
    "# Simpulkan dengan nilai alpha dan p\n",
    "# Karena P-Value lebih besar dari alpha (5%), maka kita gagal menolak H0\n",
    "# Kesimpulan: Kampanye tidak efektif, rata-rata jumlah transaksi 25 hari masih 100"
   ]
  },
  {
   "cell_type": "code",
   "execution_count": 15,
   "id": "4f1e7a75-8cf9-4322-8cb8-9d11ffd5c820",
   "metadata": {
    "tags": []
   },
   "outputs": [],
   "source": [
    "# Simpulkan dengan statistik t dan wilayah kritis\n",
    "# Temukan wilayah kritis"
   ]
  },
  {
   "cell_type": "code",
   "execution_count": 16,
   "id": "366c52f8-0ac8-417b-b3fc-5b07346d24a0",
   "metadata": {
    "tags": []
   },
   "outputs": [
    {
     "data": {
      "text/plain": [
       "1.7108820799094275"
      ]
     },
     "execution_count": 16,
     "metadata": {},
     "output_type": "execute_result"
    }
   ],
   "source": [
    "# H1: Larger (right side)\n",
    "stats.t.ppf(1-0.05, 24)"
   ]
  },
  {
   "cell_type": "code",
   "execution_count": null,
   "id": "cf56d5b7-0b90-4600-ae7f-9d5778d4b5e6",
   "metadata": {},
   "outputs": [],
   "source": [
    "# Daerah kritis : t > 1,71\n",
    "# Karena t-statistik tidak berada pada daerah kritis, maka kita gagal menolak H0\n",
    "# Kesimpulan : Kampanye tidak efektif, rata-rata jumlah transaksi 30 hari masih di angka 100"
   ]
  }
 ],
 "metadata": {
  "kernelspec": {
   "display_name": "Python 3 (ipykernel)",
   "language": "python",
   "name": "python3"
  },
  "language_info": {
   "codemirror_mode": {
    "name": "ipython",
    "version": 3
   },
   "file_extension": ".py",
   "mimetype": "text/x-python",
   "name": "python",
   "nbconvert_exporter": "python",
   "pygments_lexer": "ipython3",
   "version": "3.11.7"
  }
 },
 "nbformat": 4,
 "nbformat_minor": 5
}
