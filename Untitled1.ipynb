{
 "cells": [
  {
   "cell_type": "markdown",
   "id": "dae59e27-6e23-4716-a498-29939327dc4a",
   "metadata": {},
   "source": [
    "#### Necessary Libraries"
   ]
  },
  {
   "cell_type": "code",
   "execution_count": 2,
   "id": "741b8fb8-739f-417b-aadb-7165fa8dd51b",
   "metadata": {
    "tags": []
   },
   "outputs": [],
   "source": [
    "# necessary libraries\n",
    "import keras\n",
    "from tensorflow.keras.preprocessing.image import ImageDataGenerator\n",
    "import matplotlib.pyplot as plt\n",
    "from keras import layers\n",
    "from keras import models\n",
    "from keras import optimizers\n",
    "\n",
    "from keras.models import Model, Sequential\n",
    "from keras import layers\n",
    "\n",
    "import tensorflow as tf"
   ]
  },
  {
   "cell_type": "markdown",
   "id": "5941a8f6-89e0-4f42-9e6e-9758465c34a2",
   "metadata": {},
   "source": [
    "##### Preparing Training and Validation Folders¶\n",
    "dataset format is little bit complex , there is two folder for images , and for their labels there are csv files , therefore i am gonna create two folder for validation and train and split them"
   ]
  },
  {
   "cell_type": "code",
   "execution_count": 4,
   "id": "56f275a6-7574-4aca-b84a-1e658ae8e57a",
   "metadata": {
    "tags": []
   },
   "outputs": [
    {
     "ename": "NameError",
     "evalue": "name 'data' is not defined",
     "output_type": "error",
     "traceback": [
      "\u001b[1;31m---------------------------------------------------------------------------\u001b[0m",
      "\u001b[1;31mNameError\u001b[0m                                 Traceback (most recent call last)",
      "Cell \u001b[1;32mIn[4], line 26\u001b[0m\n\u001b[0;32m     23\u001b[0m os\u001b[38;5;241m.\u001b[39mmakedirs(val_directory, exist_ok\u001b[38;5;241m=\u001b[39m\u001b[38;5;28;01mTrue\u001b[39;00m)\n\u001b[0;32m     25\u001b[0m \u001b[38;5;66;03m# Creating label directories\u001b[39;00m\n\u001b[1;32m---> 26\u001b[0m labels \u001b[38;5;241m=\u001b[39m data[\u001b[38;5;124m\"\u001b[39m\u001b[38;5;124mlabel\u001b[39m\u001b[38;5;124m\"\u001b[39m]\u001b[38;5;241m.\u001b[39mvalue_counts()\u001b[38;5;241m.\u001b[39mindex\n\u001b[0;32m     29\u001b[0m \u001b[38;5;28;01mfor\u001b[39;00m label \u001b[38;5;129;01min\u001b[39;00m labels:\n\u001b[0;32m     30\u001b[0m     label_train_directory \u001b[38;5;241m=\u001b[39m os\u001b[38;5;241m.\u001b[39mpath\u001b[38;5;241m.\u001b[39mjoin(train_directory, label)\n",
      "\u001b[1;31mNameError\u001b[0m: name 'data' is not defined"
     ]
    }
   ],
   "source": [
    "# no need to execute this for me , i already execute it and i have folders of train and valitons sets\n",
    "import os\n",
    "import shutil\n",
    "import pandas as pd\n",
    "import random\n",
    "\n",
    "#/proyek kelas work/butterfly-image-classification/train/Image_4378.jpg'\n",
    "\n",
    "# Read the CSV file (assuming the columns are named \"filename\" and \"label\" by default)\n",
    "#csv_file_path = \"/proyek kelas work/butterfly-image-classification/Training_set.csv\"\n",
    "#data = pd.read_csv(csv_file_path)\n",
    "#data\n",
    "\n",
    "# Creating train and validation directories\n",
    "root_directory = \"kaggle/input\"  # Replace with your root directory name\n",
    "\n",
    "image_dir=\"/kaggle/input/butterfly-image-classification/train\" \n",
    "\n",
    "train_directory = os.path.join(root_directory, \"train\")\n",
    "val_directory = os.path.join(root_directory, \"validation\")\n",
    "\n",
    "os.makedirs(train_directory, exist_ok=True)\n",
    "os.makedirs(val_directory, exist_ok=True)\n",
    "\n",
    "# Creating label directories\n",
    "labels = data[\"label\"].value_counts().index\n",
    "\n",
    "\n",
    "for label in labels:\n",
    "    label_train_directory = os.path.join(train_directory, label)\n",
    "    label_val_directory = os.path.join(val_directory, label)\n",
    "    os.makedirs(label_train_directory, exist_ok=True)\n",
    "    os.makedirs(label_val_directory, exist_ok=True)\n",
    "\n",
    "# Shuffle the data\n",
    "data = data.sample(frac=1).reset_index(drop=True)\n",
    "# Split the data into 70% train and 30% validation\n",
    "val_data_count = int(len(data) * 0.3)\n",
    "validation_data = data[:val_data_count]\n",
    "train_data = data[val_data_count:]\n",
    "\n",
    "\n",
    "# Copy train data\n",
    "for index, row in train_data.iterrows():\n",
    "\n",
    "    # file name \n",
    "    file_name = row['filename']\n",
    "    # label name\n",
    "    label = row[\"label\"]\n",
    "\n",
    "    # images folder , all images are in here  \n",
    "    source_path = os.path.join(image_dir,file_name) #\n",
    "    # new destination\n",
    "    destination_directory = os.path.join(train_directory, label)\n",
    "    # copy files\n",
    "    shutil.copy(source_path, destination_directory)\n",
    "   \n",
    "    \n",
    "# Copy validation data\n",
    "for index, row in validation_data.iterrows():\n",
    " \n",
    "    file_name = row['filename']\n",
    "    label = row['label']\n",
    "    \n",
    "    source_path = os.path.join(image_dir, file_name)\n",
    "    destination_directory = os.path.join(val_directory, label)\n",
    "    shutil.copy(source_path, destination_directory)"
   ]
  },
  {
   "cell_type": "code",
   "execution_count": null,
   "id": "db45e6fe-fe29-4331-b934-483f6b72afcc",
   "metadata": {},
   "outputs": [],
   "source": [
    "import os\n",
    "import pandas as pd\n",
    "\n",
    "# Specify the root directory\n",
    "root_directory = \"/proyek kelas work/butterfly-image-classification\"\n",
    "\n",
    "# Construct the file path using os.path.join\n",
    "csv_file_path = os.path.join(root_directory, \"Training_set.csv\")\n",
    "\n",
    "# Read the CSV file\n",
    "data = pd.read_csv(csv_file_path)\n",
    "data"
   ]
  },
  {
   "cell_type": "code",
   "execution_count": null,
   "id": "18bc92e0-7db7-4ef0-9007-299c4e6bfdd9",
   "metadata": {},
   "outputs": [],
   "source": []
  },
  {
   "cell_type": "code",
   "execution_count": null,
   "id": "b094976f-8a09-45b2-bd24-01f670357686",
   "metadata": {},
   "outputs": [],
   "source": []
  },
  {
   "cell_type": "code",
   "execution_count": null,
   "id": "51fbc01f-c244-4d1d-bcd1-871b21d4e005",
   "metadata": {},
   "outputs": [],
   "source": []
  }
 ],
 "metadata": {
  "kernelspec": {
   "display_name": "Python 3 (ipykernel)",
   "language": "python",
   "name": "python3"
  },
  "language_info": {
   "codemirror_mode": {
    "name": "ipython",
    "version": 3
   },
   "file_extension": ".py",
   "mimetype": "text/x-python",
   "name": "python",
   "nbconvert_exporter": "python",
   "pygments_lexer": "ipython3",
   "version": "3.11.7"
  }
 },
 "nbformat": 4,
 "nbformat_minor": 5
}
